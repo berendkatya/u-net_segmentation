{
 "cells": [
  {
   "cell_type": "markdown",
   "metadata": {},
   "source": [
    "# Data Mining in Action, Deep Leaning\n",
    "\n",
    "## Семантическая сегментация\n",
    "\n",
    "В этом задании мы будем практиковаться в семантической сегментации. Реализуем популярную сеть для решения задачи семантической сегментации U-net, обучим её на синтетическом датасете с фигурами, оценим качество модели."
   ]
  },
  {
   "cell_type": "code",
   "execution_count": 70,
   "metadata": {
    "ExecuteTime": {
     "end_time": "2019-04-03T21:19:50.638266Z",
     "start_time": "2019-04-03T21:19:48.445997Z"
    }
   },
   "outputs": [
    {
     "name": "stdout",
     "output_type": "stream",
     "text": [
      "Populating the interactive namespace from numpy and matplotlib\n"
     ]
    },
    {
     "name": "stderr",
     "output_type": "stream",
     "text": [
      "E:\\anaconda1\\lib\\site-packages\\IPython\\core\\magics\\pylab.py:160: UserWarning: pylab import has clobbered these variables: ['block', 'f']\n",
      "`%matplotlib` prevents importing * from pylab and numpy\n",
      "  \"\\n`%matplotlib` prevents importing * from pylab and numpy\"\n"
     ]
    }
   ],
   "source": [
    "%pylab inline\n",
    "\n",
    "import torch\n",
    "import torchvision\n",
    "from torch.utils.data import Dataset\n",
    "from PIL import ImageDraw, Image"
   ]
  },
  {
   "cell_type": "markdown",
   "metadata": {},
   "source": [
    "Для создания моделей-сетей в `pytorch` удобно создавать класс, наследуясь от `torch.nn.Module`. В `torch.nn` содержася стандартные \"кирпичики\" для моделей (например, различные виды слоёв). В `torch.optim` содержатся оптимизаторы, а в `torch.utils.data` много необходимых сущеностей для работы с данными."
   ]
  },
  {
   "cell_type": "markdown",
   "metadata": {},
   "source": [
    "### Построение сети"
   ]
  },
  {
   "cell_type": "markdown",
   "metadata": {},
   "source": [
    "Начнём с построения сети. Для сегментации будем использовать архитекрутуру U-net."
   ]
  },
  {
   "cell_type": "markdown",
   "metadata": {},
   "source": [
    "![img](https://lmb.informatik.uni-freiburg.de/people/ronneber/u-net/u-net-architecture.png)"
   ]
  },
  {
   "cell_type": "markdown",
   "metadata": {},
   "source": [
    "Архитектура состоит из блоков (горизонтальные участки из синих прямоугольников). На примере выше сначала идёт 5 блоков кодировщика, далее 4 блока декодировщика. Между блоками кодировщика происходит уменьшение размерности в 2 раза с помощью max pooling. В декодировщике применяется upsampling и конкатенация с результатами соответствующего блока кодировщика. \n",
    "\n",
    "Давайте реализуем U-net по частям. Начнём с кодировщика. \n",
    "\n",
    "Один блок кодировщика состоит из двух последовательных сверток, активаций и батчнорма (опционально, но мы его сделаем дефолтным):"
   ]
  },
  {
   "cell_type": "code",
   "execution_count": 71,
   "metadata": {
    "ExecuteTime": {
     "end_time": "2019-04-03T21:19:50.777168Z",
     "start_time": "2019-04-03T21:19:50.771172Z"
    }
   },
   "outputs": [],
   "source": [
    "class EncoderBlock(torch.nn.Module):\n",
    "    def __init__(self, in_channels, out_channels):\n",
    "        super().__init__()\n",
    "        self.conv1 = torch.nn.Conv2d(in_channels, out_channels, 3, padding=1)\n",
    "        self.bn1 = torch.nn.BatchNorm2d(out_channels)\n",
    "        self.relu1 = torch.nn.ReLU()\n",
    "        self.conv2 = torch.nn.Conv2d(out_channels, out_channels, 3, padding=1)\n",
    "        self.bn2 = torch.nn.BatchNorm2d(out_channels)\n",
    "        self.relu2 = torch.nn.ReLU()\n",
    "\n",
    "    def forward(self, x):\n",
    "        x = self.conv1(x)\n",
    "        x = self.bn1(x)\n",
    "        x = self.relu1(x)\n",
    "        x = self.conv2(x)\n",
    "        x = self.bn2(x)\n",
    "        x = self.relu2(x)\n",
    "        return x"
   ]
  },
  {
   "cell_type": "code",
   "execution_count": 72,
   "metadata": {
    "ExecuteTime": {
     "end_time": "2019-04-03T21:19:50.914089Z",
     "start_time": "2019-04-03T21:19:50.906095Z"
    }
   },
   "outputs": [
    {
     "data": {
      "text/plain": [
       "EncoderBlock(\n",
       "  (conv1): Conv2d(3, 16, kernel_size=(3, 3), stride=(1, 1), padding=(1, 1))\n",
       "  (bn1): BatchNorm2d(16, eps=1e-05, momentum=0.1, affine=True, track_running_stats=True)\n",
       "  (relu1): ReLU()\n",
       "  (conv2): Conv2d(16, 16, kernel_size=(3, 3), stride=(1, 1), padding=(1, 1))\n",
       "  (bn2): BatchNorm2d(16, eps=1e-05, momentum=0.1, affine=True, track_running_stats=True)\n",
       "  (relu2): ReLU()\n",
       ")"
      ]
     },
     "execution_count": 72,
     "metadata": {},
     "output_type": "execute_result"
    }
   ],
   "source": [
    "block = EncoderBlock(3, 16)\n",
    "block"
   ]
  },
  {
   "cell_type": "markdown",
   "metadata": {},
   "source": [
    "Запустим на картинке с 3 каналами размера 200 на 200 (первая \"единичка\" означает число картинок в батче)."
   ]
  },
  {
   "cell_type": "code",
   "execution_count": 73,
   "metadata": {
    "ExecuteTime": {
     "end_time": "2019-04-03T21:19:51.118972Z",
     "start_time": "2019-04-03T21:19:51.047012Z"
    }
   },
   "outputs": [
    {
     "data": {
      "text/plain": [
       "torch.Size([1, 16, 200, 200])"
      ]
     },
     "execution_count": 73,
     "metadata": {},
     "output_type": "execute_result"
    }
   ],
   "source": [
    "block(torch.rand((1, 3, 200, 200))).size()"
   ]
  },
  {
   "cell_type": "markdown",
   "metadata": {},
   "source": [
    "Получается, что размерность выхода при применении блока кодировщика не изменяется. Изменяется она только на max pooling и upsampling слоях."
   ]
  },
  {
   "cell_type": "markdown",
   "metadata": {},
   "source": [
    "Теперь составим кодировщик из описанных выше блоков. Конструкция определяется входными каналами, количеством фильтров в первом блоке и количеством блоков.\n",
    "\n",
    "Помним также, что для работы сети нам нужно запоминать промежуточные активации. Здесь как раз помогает подход к построению через `add_module`, так как количество блоков переменно."
   ]
  },
  {
   "cell_type": "code",
   "execution_count": 74,
   "metadata": {
    "ExecuteTime": {
     "end_time": "2019-04-03T21:19:51.335847Z",
     "start_time": "2019-04-03T21:19:51.328853Z"
    }
   },
   "outputs": [],
   "source": [
    "class Encoder(torch.nn.Module):\n",
    "    def __init__(self, in_channels, num_filters, num_blocks):\n",
    "        super().__init__()\n",
    "        self.num_blocks = num_blocks\n",
    "        for i in range(num_blocks):\n",
    "            in_channels = in_channels if not i else num_filters * 2**(i - 1)\n",
    "            out_channels = num_filters * 2**i\n",
    "            self.add_module(\n",
    "                f\"block{i + 1}\", EncoderBlock(in_channels, out_channels)\n",
    "            )\n",
    "            if i != num_blocks - 1:\n",
    "                self.add_module(f\"pool{i + 1}\", torch.nn.MaxPool2d(2, 2))\n",
    "\n",
    "    def forward(self, x):\n",
    "        acts = []\n",
    "        for i in range(self.num_blocks):\n",
    "            x = self.__getattr__(f\"block{i + 1}\")(x)\n",
    "            acts.append(x)\n",
    "            if i != self.num_blocks - 1:\n",
    "                x = self.__getattr__(f\"pool{i + 1}\")(x)\n",
    "        return acts"
   ]
  },
  {
   "cell_type": "markdown",
   "metadata": {},
   "source": [
    "Создадим кодировщик из 4 блоков, где базовая размерность будет 8."
   ]
  },
  {
   "cell_type": "code",
   "execution_count": 75,
   "metadata": {
    "ExecuteTime": {
     "end_time": "2019-04-03T21:19:51.470977Z",
     "start_time": "2019-04-03T21:19:51.461969Z"
    }
   },
   "outputs": [
    {
     "data": {
      "text/plain": [
       "Encoder(\n",
       "  (block1): EncoderBlock(\n",
       "    (conv1): Conv2d(3, 8, kernel_size=(3, 3), stride=(1, 1), padding=(1, 1))\n",
       "    (bn1): BatchNorm2d(8, eps=1e-05, momentum=0.1, affine=True, track_running_stats=True)\n",
       "    (relu1): ReLU()\n",
       "    (conv2): Conv2d(8, 8, kernel_size=(3, 3), stride=(1, 1), padding=(1, 1))\n",
       "    (bn2): BatchNorm2d(8, eps=1e-05, momentum=0.1, affine=True, track_running_stats=True)\n",
       "    (relu2): ReLU()\n",
       "  )\n",
       "  (pool1): MaxPool2d(kernel_size=2, stride=2, padding=0, dilation=1, ceil_mode=False)\n",
       "  (block2): EncoderBlock(\n",
       "    (conv1): Conv2d(8, 16, kernel_size=(3, 3), stride=(1, 1), padding=(1, 1))\n",
       "    (bn1): BatchNorm2d(16, eps=1e-05, momentum=0.1, affine=True, track_running_stats=True)\n",
       "    (relu1): ReLU()\n",
       "    (conv2): Conv2d(16, 16, kernel_size=(3, 3), stride=(1, 1), padding=(1, 1))\n",
       "    (bn2): BatchNorm2d(16, eps=1e-05, momentum=0.1, affine=True, track_running_stats=True)\n",
       "    (relu2): ReLU()\n",
       "  )\n",
       "  (pool2): MaxPool2d(kernel_size=2, stride=2, padding=0, dilation=1, ceil_mode=False)\n",
       "  (block3): EncoderBlock(\n",
       "    (conv1): Conv2d(16, 32, kernel_size=(3, 3), stride=(1, 1), padding=(1, 1))\n",
       "    (bn1): BatchNorm2d(32, eps=1e-05, momentum=0.1, affine=True, track_running_stats=True)\n",
       "    (relu1): ReLU()\n",
       "    (conv2): Conv2d(32, 32, kernel_size=(3, 3), stride=(1, 1), padding=(1, 1))\n",
       "    (bn2): BatchNorm2d(32, eps=1e-05, momentum=0.1, affine=True, track_running_stats=True)\n",
       "    (relu2): ReLU()\n",
       "  )\n",
       "  (pool3): MaxPool2d(kernel_size=2, stride=2, padding=0, dilation=1, ceil_mode=False)\n",
       "  (block4): EncoderBlock(\n",
       "    (conv1): Conv2d(32, 64, kernel_size=(3, 3), stride=(1, 1), padding=(1, 1))\n",
       "    (bn1): BatchNorm2d(64, eps=1e-05, momentum=0.1, affine=True, track_running_stats=True)\n",
       "    (relu1): ReLU()\n",
       "    (conv2): Conv2d(64, 64, kernel_size=(3, 3), stride=(1, 1), padding=(1, 1))\n",
       "    (bn2): BatchNorm2d(64, eps=1e-05, momentum=0.1, affine=True, track_running_stats=True)\n",
       "    (relu2): ReLU()\n",
       "  )\n",
       ")"
      ]
     },
     "execution_count": 75,
     "metadata": {},
     "output_type": "execute_result"
    }
   ],
   "source": [
    "encoder = Encoder(in_channels=3, num_filters=8, num_blocks=4)\n",
    "encoder"
   ]
  },
  {
   "cell_type": "markdown",
   "metadata": {},
   "source": [
    "Проверьте, что на изображении 256 на 256 после каждого блока кодировщика размерность уменьшается в 2 раза, а число фильтров увеличивается в 2 раза, начиная с 8."
   ]
  },
  {
   "cell_type": "code",
   "execution_count": 76,
   "metadata": {
    "ExecuteTime": {
     "end_time": "2019-04-03T21:19:51.913708Z",
     "start_time": "2019-04-03T21:19:51.607884Z"
    }
   },
   "outputs": [
    {
     "name": "stdout",
     "output_type": "stream",
     "text": [
      "torch.Size([4, 8, 256, 256])\n",
      "torch.Size([4, 16, 128, 128])\n",
      "torch.Size([4, 32, 64, 64])\n",
      "torch.Size([4, 64, 32, 32])\n"
     ]
    }
   ],
   "source": [
    "batch_X = torch.zeros(4, 3, 256, 256)\n",
    "\n",
    "for x in encoder(batch_X):\n",
    "    print(x.shape)"
   ]
  },
  {
   "cell_type": "markdown",
   "metadata": {},
   "source": [
    "**Вопрос 1: Размерность последнего слоя энкодера**\n",
    "\n",
    "Какая размерность на последнем слое (перемножьте все размерности включая размер батча). Внесите свой ответ в поле _\"Вопрос 1: Размерность последнего слоя энкодера\"_ гугл-формы этого домашнего задания."
   ]
  },
  {
   "cell_type": "markdown",
   "metadata": {},
   "source": [
    "Блок декодировщика состоит из апскейлинга входа \"снизу\", объединения двух входов и сверток как в кодировщике. Перед конкатенированием используем свёртку для уменьшения числа фильтров в 2 раза (их количество и так растёт в 2 раза в результате объединения)."
   ]
  },
  {
   "cell_type": "code",
   "execution_count": 77,
   "metadata": {
    "ExecuteTime": {
     "end_time": "2019-04-03T21:19:52.094604Z",
     "start_time": "2019-04-03T21:19:52.089609Z"
    }
   },
   "outputs": [
    {
     "data": {
      "text/plain": [
       "262144"
      ]
     },
     "execution_count": 77,
     "metadata": {},
     "output_type": "execute_result"
    }
   ],
   "source": [
    "np.prod([4, 64, 32, 32])\n",
    "#262144"
   ]
  },
  {
   "cell_type": "code",
   "execution_count": 78,
   "metadata": {
    "ExecuteTime": {
     "end_time": "2019-04-03T21:19:52.109609Z",
     "start_time": "2019-04-03T21:19:52.098602Z"
    }
   },
   "outputs": [],
   "source": [
    "def conv3x3(in_channels, out_channels, dilation=1):\n",
    "    return torch.nn.Conv2d(\n",
    "        in_channels, out_channels, 3, padding=dilation, dilation=dilation\n",
    "    )\n",
    "\n",
    "class DecoderBlock(torch.nn.Module):\n",
    "    def __init__(self, out_channels):\n",
    "        super().__init__()\n",
    "\n",
    "        self.uppool = torch.nn.Upsample(\n",
    "            scale_factor=2, mode=\"bilinear\", align_corners=True\n",
    "        )\n",
    "        self.upconv = conv3x3(out_channels * 2, out_channels)\n",
    "        self.conv1 = conv3x3(out_channels * 2, out_channels)\n",
    "        self.conv2 = conv3x3(out_channels, out_channels)\n",
    "\n",
    "    def forward(self, down, left):\n",
    "        x = self.uppool(down)\n",
    "        x = self.upconv(x)\n",
    "        x = torch.cat([left, x], 1)\n",
    "        x = self.conv1(x)\n",
    "        x = self.conv2(x)\n",
    "        return x\n"
   ]
  },
  {
   "cell_type": "markdown",
   "metadata": {},
   "source": [
    "Проверим блок декодера, который отдаёт на выходе картинку толщиной в 8 фильтров."
   ]
  },
  {
   "cell_type": "code",
   "execution_count": 79,
   "metadata": {
    "ExecuteTime": {
     "end_time": "2019-04-03T21:19:52.586635Z",
     "start_time": "2019-04-03T21:19:52.581622Z"
    }
   },
   "outputs": [],
   "source": [
    "block = DecoderBlock(8)"
   ]
  },
  {
   "cell_type": "code",
   "execution_count": 80,
   "metadata": {
    "ExecuteTime": {
     "end_time": "2019-04-03T21:19:53.423441Z",
     "start_time": "2019-04-03T21:19:53.136606Z"
    }
   },
   "outputs": [
    {
     "data": {
      "text/plain": [
       "(torch.Size([4, 16, 128, 128]), torch.Size([4, 8, 256, 256]))"
      ]
     },
     "execution_count": 80,
     "metadata": {},
     "output_type": "execute_result"
    }
   ],
   "source": [
    "batch_inside = encoder(batch_X)\n",
    "batch_inside[1].shape, batch_inside[0].shape"
   ]
  },
  {
   "cell_type": "code",
   "execution_count": 81,
   "metadata": {
    "ExecuteTime": {
     "end_time": "2019-04-03T21:19:54.011102Z",
     "start_time": "2019-04-03T21:19:53.608334Z"
    }
   },
   "outputs": [
    {
     "data": {
      "text/plain": [
       "torch.Size([4, 8, 256, 256])"
      ]
     },
     "execution_count": 81,
     "metadata": {},
     "output_type": "execute_result"
    }
   ],
   "source": [
    "block(batch_inside[1], batch_inside[0]).shape"
   ]
  },
  {
   "cell_type": "markdown",
   "metadata": {},
   "source": [
    "Декодировщик собираем из таких блоков:"
   ]
  },
  {
   "cell_type": "code",
   "execution_count": 82,
   "metadata": {
    "ExecuteTime": {
     "end_time": "2019-04-03T21:19:54.185002Z",
     "start_time": "2019-04-03T21:19:54.180004Z"
    }
   },
   "outputs": [],
   "source": [
    "class Decoder(torch.nn.Module):\n",
    "    def __init__(self, num_filters, num_blocks):\n",
    "        super().__init__()\n",
    "\n",
    "        for i in range(num_blocks):\n",
    "            self.add_module(\n",
    "                f\"block{num_blocks - i}\", DecoderBlock(num_filters * 2**i)\n",
    "            )\n",
    "\n",
    "    def forward(self, acts):\n",
    "        up = acts[-1]\n",
    "        for i, left in enumerate(acts[-2::-1]):\n",
    "            up = self.__getattr__(f\"block{i + 1}\")(up, left)\n",
    "        return up"
   ]
  },
  {
   "cell_type": "code",
   "execution_count": 83,
   "metadata": {
    "ExecuteTime": {
     "end_time": "2019-04-03T21:19:54.524734Z",
     "start_time": "2019-04-03T21:19:54.517727Z"
    }
   },
   "outputs": [],
   "source": [
    "decoder = Decoder(8, 3)"
   ]
  },
  {
   "cell_type": "code",
   "execution_count": 84,
   "metadata": {
    "ExecuteTime": {
     "end_time": "2019-04-03T21:19:55.749950Z",
     "start_time": "2019-04-03T21:19:54.709548Z"
    }
   },
   "outputs": [
    {
     "name": "stdout",
     "output_type": "stream",
     "text": [
      "torch.Size([4, 3, 256, 256])\n",
      "torch.Size([4, 8, 256, 256])\n"
     ]
    }
   ],
   "source": [
    "print(batch_X.shape)\n",
    "print(decoder(encoder(batch_X)).shape)"
   ]
  },
  {
   "cell_type": "markdown",
   "metadata": {},
   "source": [
    "U-Net состоит из такого кодировщика и декодировщика, а также финального слоя классификации:"
   ]
  },
  {
   "cell_type": "code",
   "execution_count": 85,
   "metadata": {
    "ExecuteTime": {
     "end_time": "2019-04-03T21:19:55.908856Z",
     "start_time": "2019-04-03T21:19:55.902860Z"
    }
   },
   "outputs": [],
   "source": [
    "class UNet(torch.nn.Module):\n",
    "    def __init__(self, num_classes, in_channels=3, num_filters=8, num_blocks=4):\n",
    "        super().__init__()\n",
    "        self.encoder = Encoder(in_channels, num_filters, num_blocks)\n",
    "        self.decoder = Decoder(num_filters, num_blocks - 1)\n",
    "        self.final = torch.nn.Conv2d(num_filters, num_classes, 1)\n",
    "\n",
    "    def forward(self, x):\n",
    "        acts = self.encoder(x)\n",
    "        x = self.decoder(acts)\n",
    "        x = self.final(x)\n",
    "        return x"
   ]
  },
  {
   "cell_type": "code",
   "execution_count": 86,
   "metadata": {
    "ExecuteTime": {
     "end_time": "2019-04-03T21:19:56.075760Z",
     "start_time": "2019-04-03T21:19:56.063767Z"
    }
   },
   "outputs": [],
   "source": [
    "model = UNet(num_classes=6)"
   ]
  },
  {
   "cell_type": "code",
   "execution_count": 87,
   "metadata": {
    "ExecuteTime": {
     "end_time": "2019-04-03T21:19:58.637284Z",
     "start_time": "2019-04-03T21:19:56.212681Z"
    }
   },
   "outputs": [
    {
     "data": {
      "text/plain": [
       "torch.Size([4, 6, 416, 416])"
      ]
     },
     "execution_count": 87,
     "metadata": {},
     "output_type": "execute_result"
    }
   ],
   "source": [
    "device = torch.device('cuda' if torch.cuda.is_available() else 'cpu')\n",
    "model.to(device)\n",
    "\n",
    "images = torch.randn(4, 3, 416, 416).to(device)\n",
    "model(images).shape"
   ]
  },
  {
   "cell_type": "code",
   "execution_count": 88,
   "metadata": {
    "ExecuteTime": {
     "end_time": "2019-04-03T21:19:58.787210Z",
     "start_time": "2019-04-03T21:19:58.782212Z"
    }
   },
   "outputs": [
    {
     "data": {
      "text/plain": [
       "4153344"
      ]
     },
     "execution_count": 88,
     "metadata": {},
     "output_type": "execute_result"
    }
   ],
   "source": [
    "np.prod([4, 6, 416, 416])\n",
    "#4153344"
   ]
  },
  {
   "cell_type": "markdown",
   "metadata": {},
   "source": [
    "**Вопрос 2: Размерность на выходе всей модели** \n",
    "\n",
    "Какая размерность получилась на выходе (перемножьте все размерности, включая количество батчей)? Внесите свой ответ в поле _\"Вопрос 2:  Размерность на выходе всей модели\"_ гугл-формы этого домашнего задания."
   ]
  },
  {
   "cell_type": "markdown",
   "metadata": {},
   "source": [
    "На выходе из сети получаем бинарную маску из линейных активаций. Для обучения такой модели используются функции потерь, которые включают в себя применение активации. В вероятности их можно превращать с помощью `torch.sigmoid`."
   ]
  },
  {
   "cell_type": "markdown",
   "metadata": {},
   "source": [
    "### Данные"
   ]
  },
  {
   "cell_type": "markdown",
   "metadata": {},
   "source": [
    "Будем решать задачу семантической сегментации на синтетических данных, представляющий собой множество эллипсов, квадратов и треугольников с гауссовым шумом."
   ]
  },
  {
   "cell_type": "markdown",
   "metadata": {},
   "source": [
    "Для загрузки данных pytorch опирается на такую сущность, как `Dataset`. Этот абстрактный класс определен в `torch.utils.data.dataset`."
   ]
  },
  {
   "cell_type": "code",
   "execution_count": 89,
   "metadata": {
    "ExecuteTime": {
     "end_time": "2019-04-03T21:19:58.931114Z",
     "start_time": "2019-04-03T21:19:58.916123Z"
    }
   },
   "outputs": [],
   "source": [
    "class Figures(Dataset):\n",
    "    def __init__(self, num_images=10, num_figure=10, size_hor=200, size_ver=200,\n",
    "                 min_size=5, max_size=40, noise=False,\n",
    "                 normalize=None):\n",
    "        \n",
    "        self.images = []\n",
    "        \n",
    "        for _ in range(num_images):\n",
    "            color_background = tuple(np.random.randint(low=0, high=255, size=3))\n",
    "            image = Image.new(mode='RGB', size=(size_hor, size_ver), color=color_background)\n",
    "            draw = ImageDraw.Draw(image)\n",
    "\n",
    "            mask = Image.new(mode='1', size=(size_hor, size_ver), color=0)\n",
    "            draw_mask = ImageDraw.Draw(mask)\n",
    "            \n",
    "            for i in range(num_figure):\n",
    "                color = tuple(np.random.randint(low=0, high=255, size=3))\n",
    "                size = np.random.randint(low=min_size, high=max_size)\n",
    "                \n",
    "                xl = np.random.randint(low=0, high=size_hor-size)\n",
    "                yt = np.random.randint(low=0, high=size_ver-size)\n",
    "                xr = xl + size\n",
    "                yb = yt + size\n",
    "                \n",
    "                figure_type = np.random.choice(['circle', 'triangle', 'rectangle'])\n",
    "                if figure_type == 'circle':\n",
    "                    draw.ellipse((xl, yt, xr, yb), fill=color)\n",
    "                    draw_mask.ellipse((xl, yt, xr, yb), fill=1)\n",
    "                elif figure_type == 'rectangle':\n",
    "                    draw.rectangle((xl, yt, xr, yb), fill=color)\n",
    "                    draw_mask.rectangle((xl, yt, xr, yb), fill=1)\n",
    "                elif figure_type == 'triangle':\n",
    "                    draw.polygon((xl, yb, xr, yb, (xl + xr) / 2, yt), fill=color)\n",
    "                    draw_mask.polygon((xl, yb, xr, yb, (xl + xr) / 2, yt), fill=1)\n",
    "\n",
    "            image = torchvision.transforms.ToTensor()(image).float()\n",
    "            mask = torchvision.transforms.ToTensor()(mask).float()\n",
    "            \n",
    "            if normalize:\n",
    "                image = normalize(image)\n",
    "           \n",
    "            if noise:\n",
    "                mean, var = 0, 0.001\n",
    "                gauss = np.random.normal(mean, var ** 0.5, (3, size_hor, size_ver))\n",
    "                image = image + torch.FloatTensor(gauss)\n",
    "                \n",
    "            self.images.append({'image': image, 'mask': mask})\n",
    "\n",
    "    def __getitem__(self, index):\n",
    "        return self.images[index]\n",
    "        \n",
    "    def __len__(self):\n",
    "        return len(self.images)"
   ]
  },
  {
   "cell_type": "markdown",
   "metadata": {},
   "source": [
    "Примеры:"
   ]
  },
  {
   "cell_type": "code",
   "execution_count": 90,
   "metadata": {
    "ExecuteTime": {
     "end_time": "2019-04-03T21:19:59.197959Z",
     "start_time": "2019-04-03T21:19:59.067037Z"
    }
   },
   "outputs": [],
   "source": [
    "generator = Figures(noise=True, normalize=None)"
   ]
  },
  {
   "cell_type": "code",
   "execution_count": 91,
   "metadata": {
    "ExecuteTime": {
     "end_time": "2019-04-03T21:19:59.415834Z",
     "start_time": "2019-04-03T21:19:59.392848Z"
    }
   },
   "outputs": [
    {
     "data": {
      "image/png": "[encoded data removed]",
      "text/plain": [
       "<PIL.Image.Image image mode=RGB size=200x200 at 0x25DFD3A07B8>"
      ]
     },
     "execution_count": 91,
     "metadata": {},
     "output_type": "execute_result"
    }
   ],
   "source": [
    "torchvision.transforms.ToPILImage()(generator[0]['image'])"
   ]
  },
  {
   "cell_type": "code",
   "execution_count": 92,
   "metadata": {
    "ExecuteTime": {
     "end_time": "2019-04-03T21:19:59.948693Z",
     "start_time": "2019-04-03T21:19:59.828753Z"
    }
   },
   "outputs": [
    {
     "data": {
      "image/png": "[encoded data removed]",
      "text/plain": [
       "<Figure size 432x288 with 1 Axes>"
      ]
     },
     "metadata": {
      "needs_background": "light"
     },
     "output_type": "display_data"
    }
   ],
   "source": [
    "plt.imshow(np.array(generator[0]['mask'][0, :, :]).reshape((200, 200)))\n",
    "plt.show()"
   ]
  },
  {
   "cell_type": "markdown",
   "metadata": {},
   "source": [
    "Посчитаем среднее и дисперсию, чтобы дальше нормализовать с такими коэффициентами:"
   ]
  },
  {
   "cell_type": "code",
   "execution_count": 93,
   "metadata": {
    "ExecuteTime": {
     "end_time": "2019-04-03T21:20:04.697640Z",
     "start_time": "2019-04-03T21:20:00.434097Z"
    }
   },
   "outputs": [],
   "source": [
    "data = Figures(num_images=1000, noise=False)\n",
    "\n",
    "image_pixels = torch.stack([ell['image'].reshape((3, -1)) for ell in data], dim=1)\n",
    "mean_ = image_pixels.reshape((3, -1)).mean(1)\n",
    "std_ = image_pixels.reshape((3, -1)).std(1)\n",
    "normalize = torchvision.transforms.Normalize(mean_, std_)"
   ]
  },
  {
   "cell_type": "markdown",
   "metadata": {},
   "source": [
    "### Обучение модели"
   ]
  },
  {
   "cell_type": "markdown",
   "metadata": {},
   "source": [
    "Для оценки качества масок будем использовать Dice.\n",
    "\n",
    "![](https://wikimedia.org/api/rest_v1/media/math/render/svg/a80a97215e1afc0b222e604af1b2099dc9363d3b)\n",
    "\n",
    "При реализации не забывайте, что на вход поступает сразу весь батч, а результат должен быть усреднением dice-score по всем изображениям батча. Не забывайте о возможных численных неустойчивостях при возможности деления на ноль."
   ]
  },
  {
   "cell_type": "code",
   "execution_count": 94,
   "metadata": {
    "ExecuteTime": {
     "end_time": "2019-04-03T21:20:04.834560Z",
     "start_time": "2019-04-03T21:20:04.829565Z"
    }
   },
   "outputs": [],
   "source": [
    "def dice_coefficient(mask, prediction):\n",
    "    smooth = 0.000001\n",
    "    num = prediction.size(0)\n",
    "    m1 = prediction.view(num, -1)  # Flatten\n",
    "    m2 = mask.view(num, -1)  # Flatten\n",
    "    intersection = (m1 * m2).sum()\n",
    "\n",
    "    return (2. * intersection + smooth) / (m1.sum() + m2.sum() + smooth)"
   ]
  },
  {
   "cell_type": "markdown",
   "metadata": {},
   "source": [
    "Проверим реализацию dice."
   ]
  },
  {
   "cell_type": "code",
   "execution_count": 95,
   "metadata": {
    "ExecuteTime": {
     "end_time": "2019-04-03T21:20:05.010459Z",
     "start_time": "2019-04-03T21:20:04.963488Z"
    }
   },
   "outputs": [
    {
     "data": {
      "text/plain": [
       "tensor(0.5005)"
      ]
     },
     "execution_count": 95,
     "metadata": {},
     "output_type": "execute_result"
    }
   ],
   "source": [
    "torch.manual_seed(10)\n",
    "\n",
    "test_mask = torch.randint(0, 2, size=(8, 1, 300, 300)).float()\n",
    "prediction_mask = torch.randint(0, 2, size=(8, 1, 300, 300)).float()\n",
    "\n",
    "dice_coefficient(test_mask, prediction_mask)"
   ]
  },
  {
   "cell_type": "code",
   "execution_count": 96,
   "metadata": {
    "ExecuteTime": {
     "end_time": "2019-04-03T21:20:05.219341Z",
     "start_time": "2019-04-03T21:20:05.217342Z"
    }
   },
   "outputs": [],
   "source": [
    "#0.5005"
   ]
  },
  {
   "cell_type": "markdown",
   "metadata": {},
   "source": [
    "**Вопрос 3: Dice Coefficient**\n",
    "\n",
    "Какой результат получился в клетке выше (ответ округлите до **четырех** знаков после запятой, например: 0.6576)? Внесите свой ответ в поле _\"Вопрос 3: Dice Coefficient\"_ гугл-формы этого домашнего задания."
   ]
  },
  {
   "cell_type": "markdown",
   "metadata": {},
   "source": [
    "Подготовим обучающую и тестовую выборки."
   ]
  },
  {
   "cell_type": "code",
   "execution_count": 97,
   "metadata": {
    "ExecuteTime": {
     "end_time": "2019-04-03T21:20:07.491028Z",
     "start_time": "2019-04-03T21:20:05.353263Z"
    }
   },
   "outputs": [],
   "source": [
    "batch_size = 8\n",
    "\n",
    "train_data_loader = torch.utils.data.DataLoader(\n",
    "    dataset=Figures(noise=False, normalize=normalize, num_images=500),\n",
    "    batch_size=batch_size, shuffle=True)\n",
    "\n",
    "test_data_loader = torch.utils.data.DataLoader(\n",
    "    dataset=Figures(noise=False, normalize=normalize, num_images=200),\n",
    "    batch_size=batch_size)\n",
    "\n",
    "train_size = len(train_data_loader.dataset)\n",
    "test_size = len(test_data_loader.dataset)"
   ]
  },
  {
   "cell_type": "markdown",
   "metadata": {},
   "source": [
    "Для обучения моделей необходимо определить функцию потерь, их примеры содержатся в модуле `torch.nn`. Сейчас для задачи бинарной сегментации нам потребуется бинарная кросс энтропия, которая на вход будет принимать не вероятности, а сырые значения (у нас сеть заканчивается линейным слоем). Найдите такую функцию."
   ]
  },
  {
   "cell_type": "code",
   "execution_count": 98,
   "metadata": {
    "ExecuteTime": {
     "end_time": "2019-04-03T21:20:07.692913Z",
     "start_time": "2019-04-03T21:20:07.677921Z"
    }
   },
   "outputs": [],
   "source": [
    "sigmoid = torch.nn.Sigmoid()\n",
    "criterion =  torch.nn.BCEWithLogitsLoss()\n",
    "num_epoch = 10\n",
    "\n",
    "network = UNet(num_classes=1)\n",
    "optimizer = torch.optim.Adam(network.parameters())"
   ]
  },
  {
   "cell_type": "code",
   "execution_count": 99,
   "metadata": {
    "ExecuteTime": {
     "end_time": "2019-04-03T21:48:36.419317Z",
     "start_time": "2019-04-03T21:20:07.827836Z"
    },
    "scrolled": true
   },
   "outputs": [
    {
     "name": "stdout",
     "output_type": "stream",
     "text": [
      "epoch: 0,\ttrain loss: 0.26532,\ttest loss: 0.1723,\ttest dice: 0.66487\n",
      "epoch: 1,\ttrain loss: 0.13343,\ttest loss: 0.11904,\ttest dice: 0.7432\n",
      "epoch: 2,\ttrain loss: 0.08521,\ttest loss: 0.08295,\ttest dice: 0.8474\n",
      "epoch: 3,\ttrain loss: 0.07608,\ttest loss: 0.07174,\ttest dice: 0.86682\n",
      "epoch: 4,\ttrain loss: 0.06526,\ttest loss: 0.05789,\ttest dice: 0.88885\n",
      "epoch: 5,\ttrain loss: 0.05448,\ttest loss: 0.05104,\ttest dice: 0.90046\n",
      "epoch: 6,\ttrain loss: 0.04644,\ttest loss: 0.04568,\ttest dice: 0.91442\n",
      "epoch: 7,\ttrain loss: 0.04349,\ttest loss: 0.04233,\ttest dice: 0.91949\n",
      "epoch: 8,\ttrain loss: 0.03937,\ttest loss: 0.04254,\ttest dice: 0.9227\n",
      "epoch: 9,\ttrain loss: 0.03689,\ttest loss: 0.04321,\ttest dice: 0.92226\n"
     ]
    }
   ],
   "source": [
    "global_step = 0\n",
    "\n",
    "for epoch in range(num_epoch):\n",
    "    loss_train = 0\n",
    "    for i, batch in enumerate(train_data_loader):\n",
    "        # main train loop: zero gradient, forward, loss, backward, update\n",
    "        optimizer.zero_grad()\n",
    "        output = network(batch['image'])\n",
    "        loss = criterion(output, batch['mask'])\n",
    "        loss_train += batch_size * float(loss.detach())\n",
    "        loss.backward()\n",
    "        optimizer.step()\n",
    "    loss_train = loss_train / train_size\n",
    "        \n",
    "    loss_test, dice_test = 0, 0\n",
    "    for i, batch in enumerate(test_data_loader):\n",
    "        output = network(batch['image'])\n",
    "        prediction_mask = (output > 0).float()\n",
    "        loss_test += batch_size * float(criterion(output, batch['mask']).detach())\n",
    "        dice_test += batch_size * float(dice_coefficient(batch['mask'], prediction_mask).detach())\n",
    "    loss_test = loss_test / test_size\n",
    "    dice_test = dice_test / test_size\n",
    "    \n",
    "    print('epoch: {},\\ttrain loss: {},\\ttest loss: {},\\ttest dice: {}'.format(\n",
    "        epoch, round(loss_train, 5), round(loss_test, 5), round(dice_test, 5)))"
   ]
  },
  {
   "cell_type": "code",
   "execution_count": 100,
   "metadata": {
    "ExecuteTime": {
     "end_time": "2019-04-03T21:48:36.619204Z",
     "start_time": "2019-04-03T21:48:36.615205Z"
    }
   },
   "outputs": [],
   "source": [
    "#0.04"
   ]
  },
  {
   "cell_type": "markdown",
   "metadata": {},
   "source": [
    "**Вопрос 4: Функция потерь на тестовой выборке**\n",
    "\n",
    "Какое значение функции потерь получилось после 10 эпох на тестовой выборке (ответ округлите до **двух** знаков после запятой, например: 0.65)? Внесите свой ответ в поле _\"Вопрос 4: Функция потерь на тестовой выборке\"_ гугл-формы этого домашнего задания."
   ]
  },
  {
   "cell_type": "markdown",
   "metadata": {},
   "source": [
    "Визуализируйте 3 произвольных картинки, их маски и предсказания сети."
   ]
  },
  {
   "cell_type": "code",
   "execution_count": 101,
   "metadata": {
    "ExecuteTime": {
     "end_time": "2019-04-03T21:48:37.396754Z",
     "start_time": "2019-04-03T21:48:36.764131Z"
    }
   },
   "outputs": [
    {
     "data": {
      "image/png": "[encoded data removed]",
      "text/plain": [
       "<Figure size 432x288 with 2 Axes>"
      ]
     },
     "metadata": {
      "needs_background": "light"
     },
     "output_type": "display_data"
    },
    {
     "data": {
      "image/png": "[encoded data removed]",
      "text/plain": [
       "<Figure size 432x288 with 2 Axes>"
      ]
     },
     "metadata": {
      "needs_background": "light"
     },
     "output_type": "display_data"
    },
    {
     "data": {
      "image/png": "[encoded data removed]",
      "text/plain": [
       "<Figure size 432x288 with 2 Axes>"
      ]
     },
     "metadata": {
      "needs_background": "light"
     },
     "output_type": "display_data"
    }
   ],
   "source": [
    "for h in (np.random.randint(8, size = 3)):\n",
    "    f, (ax1, ax2) = plt.subplots(1, 2, sharey=True)\n",
    "    ax1.imshow(batch['image'][h][0, :, :].reshape((200, 200)))\n",
    "    ax2.imshow(np.array(prediction_mask)[h][0, :, :].reshape((200, 200)))\n",
    "    plt.show()"
   ]
  },
  {
   "cell_type": "markdown",
   "metadata": {},
   "source": [
    "Попробуйте увеличить `batch_size` в 4 раза и повторите обучение с теми же 10 эпохами."
   ]
  },
  {
   "cell_type": "code",
   "execution_count": 102,
   "metadata": {
    "ExecuteTime": {
     "end_time": "2019-04-03T21:49:21.957800Z",
     "start_time": "2019-04-03T21:49:17.708268Z"
    }
   },
   "outputs": [],
   "source": [
    "batch_size = 8 * 4\n",
    "\n",
    "train_data_loader = torch.utils.data.DataLoader(\n",
    "    dataset=Figures(noise=False, normalize=normalize, num_images=1000),\n",
    "    batch_size=batch_size, shuffle=True)\n",
    "\n",
    "test_data_loader = torch.utils.data.DataLoader(\n",
    "    dataset=Figures(noise=False, normalize=normalize, num_images=250),\n",
    "    batch_size=batch_size)\n",
    "\n",
    "test_size = len(test_data_loader.dataset)"
   ]
  },
  {
   "cell_type": "code",
   "execution_count": 103,
   "metadata": {
    "ExecuteTime": {
     "end_time": "2019-04-03T21:49:22.180701Z",
     "start_time": "2019-04-03T21:49:22.168681Z"
    }
   },
   "outputs": [],
   "source": [
    "criterion = torch.nn.BCEWithLogitsLoss()\n",
    "num_epoch = 10\n",
    "\n",
    "network = UNet(num_classes=1)\n",
    "optimizer = torch.optim.Adam(network.parameters())"
   ]
  },
  {
   "cell_type": "code",
   "execution_count": 104,
   "metadata": {
    "ExecuteTime": {
     "end_time": "2019-04-03T22:44:13.537526Z",
     "start_time": "2019-04-03T21:49:22.338584Z"
    },
    "scrolled": true
   },
   "outputs": [
    {
     "name": "stdout",
     "output_type": "stream",
     "text": [
      "epoch: 0,\ttrain loss: 0.67961,\ttest loss: 0.20124,\ttest dice: 0.6037\n",
      "epoch: 1,\ttrain loss: 0.31961,\ttest loss: 0.13746,\ttest dice: 0.77474\n",
      "epoch: 2,\ttrain loss: 0.21945,\ttest loss: 0.09377,\ttest dice: 0.84457\n",
      "epoch: 3,\ttrain loss: 0.16222,\ttest loss: 0.07664,\ttest dice: 0.88323\n",
      "epoch: 4,\ttrain loss: 0.13482,\ttest loss: 0.06375,\ttest dice: 0.90473\n",
      "epoch: 5,\ttrain loss: 0.11614,\ttest loss: 0.05586,\ttest dice: 0.91805\n",
      "epoch: 6,\ttrain loss: 0.10502,\ttest loss: 0.11443,\ttest dice: 0.83498\n",
      "epoch: 7,\ttrain loss: 0.15144,\ttest loss: 0.05655,\ttest dice: 0.91823\n",
      "epoch: 8,\ttrain loss: 0.10142,\ttest loss: 0.04723,\ttest dice: 0.93525\n",
      "epoch: 9,\ttrain loss: 0.0866,\ttest loss: 0.04306,\ttest dice: 0.94178\n"
     ]
    }
   ],
   "source": [
    "global_step = 0\n",
    "\n",
    "for epoch in range(num_epoch):\n",
    "    loss_train = 0\n",
    "    for i, batch in enumerate(train_data_loader):\n",
    "        # main train loop: zero gradient, forward, loss, backward, update\n",
    "        optimizer.zero_grad()\n",
    "        output = network(batch['image'])\n",
    "        loss = criterion(output, batch['mask'])\n",
    "        loss_train += batch_size * float(loss.detach())\n",
    "        loss.backward()\n",
    "        optimizer.step()\n",
    "    loss_train = loss_train / train_size\n",
    "        \n",
    "    loss_test, dice_test = 0, 0\n",
    "    for i, batch in enumerate(test_data_loader):\n",
    "        output = network(batch['image'])\n",
    "        prediction_mask = (output > 0).float()\n",
    "        loss_test += batch_size * float(criterion(output, batch['mask']).detach())\n",
    "        dice_test += batch_size * float(dice_coefficient(batch['mask'], prediction_mask).detach())\n",
    "    loss_test = loss_test / test_size\n",
    "    dice_test = dice_test / test_size\n",
    "    \n",
    "    print('epoch: {},\\ttrain loss: {},\\ttest loss: {},\\ttest dice: {}'.format(\n",
    "        epoch, round(loss_train, 5), round(loss_test, 5), round(dice_test, 5)))"
   ]
  },
  {
   "cell_type": "markdown",
   "metadata": {},
   "source": [
    "**Вопрос 5: Dice Coefficient на тестовой выборке**\n",
    "\n",
    "Какое значение dice на тестовой выборке после 10 эпох (ответ округлите до **двух** знаков после запятой, например: 0.65)? Внесите свой ответ в поле _\"Вопрос 5: Dice Coefficient на тестовой выборке\"_ гугл-формы этого домашнего задания."
   ]
  },
  {
   "cell_type": "code",
   "execution_count": 105,
   "metadata": {
    "ExecuteTime": {
     "end_time": "2019-04-03T22:44:16.056084Z",
     "start_time": "2019-04-03T22:44:16.052085Z"
    }
   },
   "outputs": [],
   "source": [
    "#0.94"
   ]
  },
  {
   "cell_type": "code",
   "execution_count": 108,
   "metadata": {
    "ExecuteTime": {
     "end_time": "2019-04-04T05:18:34.755957Z",
     "start_time": "2019-04-04T05:18:34.193283Z"
    }
   },
   "outputs": [
    {
     "data": {
      "image/png": "[encoded data removed]",
      "text/plain": [
       "<Figure size 432x288 with 2 Axes>"
      ]
     },
     "metadata": {
      "needs_background": "light"
     },
     "output_type": "display_data"
    },
    {
     "data": {
      "image/png": "[encoded data removed]",
      "text/plain": [
       "<Figure size 432x288 with 2 Axes>"
      ]
     },
     "metadata": {
      "needs_background": "light"
     },
     "output_type": "display_data"
    },
    {
     "data": {
      "image/png": "[encoded data removed]",
      "text/plain": [
       "<Figure size 432x288 with 2 Axes>"
      ]
     },
     "metadata": {
      "needs_background": "light"
     },
     "output_type": "display_data"
    }
   ],
   "source": [
    "for h in (np.random.randint(8 * 3, size = 3)):\n",
    "    f, (ax1, ax2) = plt.subplots(1, 2, sharey=True)\n",
    "    ax1.imshow(batch['image'][h][0, :, :].reshape((200, 200)))\n",
    "    ax2.imshow(np.array(prediction_mask)[h][0, :, :].reshape((200, 200)))\n",
    "    plt.show()"
   ]
  },
  {
   "cell_type": "code",
   "execution_count": null,
   "metadata": {},
   "outputs": [],
   "source": []
  }
 ],
 "metadata": {
  "hide_input": false,
  "kernelspec": {
   "display_name": "Python 3",
   "language": "python",
   "name": "python3"
  },
  "language_info": {
   "codemirror_mode": {
    "name": "ipython",
    "version": 3
   },
   "file_extension": ".py",
   "mimetype": "text/x-python",
   "name": "python",
   "nbconvert_exporter": "python",
   "pygments_lexer": "ipython3",
   "version": "3.6.6"
  },
  "toc": {
   "base_numbering": 1,
   "nav_menu": {},
   "number_sections": true,
   "sideBar": true,
   "skip_h1_title": false,
   "title_cell": "Table of Contents",
   "title_sidebar": "Contents",
   "toc_cell": false,
   "toc_position": {},
   "toc_section_display": true,
   "toc_window_display": false
  },
  "varInspector": {
   "cols": {
    "lenName": 16,
    "lenType": 16,
    "lenVar": 40
   },
   "kernels_config": {
    "python": {
     "delete_cmd_postfix": "",
     "delete_cmd_prefix": "del ",
     "library": "var_list.py",
     "varRefreshCmd": "print(var_dic_list())"
    },
    "r": {
     "delete_cmd_postfix": ") ",
     "delete_cmd_prefix": "rm(",
     "library": "var_list.r",
     "varRefreshCmd": "cat(var_dic_list()) "
    }
   },
   "types_to_exclude": [
    "module",
    "function",
    "builtin_function_or_method",
    "instance",
    "_Feature"
   ],
   "window_display": false
  }
 },
 "nbformat": 4,
 "nbformat_minor": 2
}
